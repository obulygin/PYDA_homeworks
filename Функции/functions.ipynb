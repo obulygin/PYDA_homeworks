{
 "cells": [
  {
   "cell_type": "markdown",
   "metadata": {},
   "source": [
    "Вы работаете секретарем и вам постоянно приходят различные документы. Вы должны быть очень внимательны, чтобы не потерять ни один документ. Каталог документов хранится в следующем виде:"
   ]
  },
  {
   "cell_type": "code",
   "execution_count": 86,
   "metadata": {},
   "outputs": [],
   "source": [
    "documents = [\n",
    "    {'type': 'passport', 'number': '2207 876234', 'name': 'Василий Гупкин'},\n",
    "    {'type': 'invoice', 'number': '11-2', 'name': 'Геннадий Покемонов'},\n",
    "    {'type': 'insurance', 'number': '10006', 'name': 'Аристарх Павлов'}\n",
    "]"
   ]
  },
  {
   "cell_type": "markdown",
   "metadata": {},
   "source": [
    "Перечень полок, на которых находятся документы хранится в следующем виде:"
   ]
  },
  {
   "cell_type": "code",
   "execution_count": 87,
   "metadata": {},
   "outputs": [],
   "source": [
    "directories = {\n",
    "    '1': ['2207 876234', '11-2'],\n",
    "    '2': ['10006'],\n",
    "    '3': []\n",
    "}"
   ]
  },
  {
   "cell_type": "markdown",
   "metadata": {},
   "source": [
    "Необходимо реализовать пользовательские команды (внимание! это не название функций, которые должны быть выразительными, а команды, которые вводит пользователь, чтобы получить необходимый результат):\n",
    "  \n",
    "- p – people – команда, которая спросит номер документа и выведет имя человека, которому он принадлежит;  \n",
    "- s – shelf – команда, которая спросит номер документа и выведет номер полки, на которой он находится  \n",
    "*Правильно обработайте ситуации, когда пользователь будет вводить несуществующий документ*.\n",
    "- l – list – команда, которая выведет список всех документов в формате   \n",
    "**passport \"2207 876234\" \"Василий Гупкин\"**  \n",
    "- as – add shelf – команда, которая спросит номер новой полки и добавит ее в перечень. *Предусмотрите случай, когда пользователь добавляет полку, которая уже существует*.\n",
    "- d – delete – команда, которая спросит номер документа и удалит его из каталога и из перечня полок. *Предусмотрите сценарий, когда пользователь вводит несуществующий документ*;  \n",
    "- m – move – команда, которая спросит номер документа и целевую полку и переместит его с текущей полки на целевую. *Корректно обработайте кейсы, когда пользователь пытается переместить несуществующий документ или переместить документ на несуществующую полку*;  \n",
    "- a – add – команда, которая добавит новый документ в каталог и в перечень полок, спросив его номер, тип, имя владельца и номер полки, на котором он будет храниться. *Корректно обработайте ситуацию, когда пользователь будет пытаться добавить документ на несуществующую полку*."
   ]
  },
  {
   "cell_type": "markdown",
   "metadata": {},
   "source": [
    "Номера документов считаются уникальными"
   ]
  },
  {
   "cell_type": "code",
   "execution_count": 15,
   "metadata": {},
   "outputs": [
    {
     "data": {
      "text/plain": [
       "'Аристарх Павлов'"
      ]
     },
     "execution_count": 15,
     "metadata": {},
     "output_type": "execute_result"
    }
   ],
   "source": [
    "# 1. people\n",
    "def people_by_number(num, docs):\n",
    "    \"\"\"Ask the number of document and return the owner's name.\"\"\"\n",
    "    for doc in docs:\n",
    "        if doc['number'] == num:\n",
    "            return doc['name']\n",
    "    else:\n",
    "        print('There is not a document with this name.\\nYou can add it with add_new_document().')\n",
    "\n",
    "people_by_number('10006', documents)"
   ]
  },
  {
   "cell_type": "code",
   "execution_count": 19,
   "metadata": {},
   "outputs": [
    {
     "data": {
      "text/plain": [
       "'2'"
      ]
     },
     "execution_count": 19,
     "metadata": {},
     "output_type": "execute_result"
    }
   ],
   "source": [
    "# 2. shelf\n",
    "def shelf_by_number(num, dirs):\n",
    "    \"\"\"Ask the number of document and return the number of shelf.\"\"\"\n",
    "    for shelf in dirs.keys():\n",
    "        if num in dirs[shelf]:\n",
    "            return shelf\n",
    "    else:\n",
    "        print('There is not a document with this name.\\nYou can add it with add_new_document().')\n",
    "        \n",
    "shelf_by_number('10006', directories)"
   ]
  },
  {
   "cell_type": "code",
   "execution_count": 34,
   "metadata": {},
   "outputs": [
    {
     "name": "stdout",
     "output_type": "stream",
     "text": [
      "passport \"2207 876234\"\" \"'Василий Гупкин'\"\n",
      "invoice \"11-2\"\" \"'Геннадий Покемонов'\"\n",
      "insurance \"10006\"\" \"'Аристарх Павлов'\"\n",
      "There are no documens.\n"
     ]
    }
   ],
   "source": [
    "# 3. list\n",
    "def show_all_documents(docs):\n",
    "    \"\"\"Print all documents.\"\"\"\n",
    "    if docs:\n",
    "        for doc in docs:\n",
    "            print(doc['type'], '\"'+doc['number']+'\"\"', '\"'+repr(doc['name'])+'\"')\n",
    "    else:\n",
    "        print('There are no documents.\\nYou can add them with add_new_document().')\n",
    "\n",
    "show_all_documents(documents)\n",
    "show_all_documents([])"
   ]
  },
  {
   "cell_type": "code",
   "execution_count": 36,
   "metadata": {},
   "outputs": [
    {
     "name": "stdout",
     "output_type": "stream",
     "text": [
      "This shelf is in directories.\n",
      "This shelf is in directories.\n"
     ]
    },
    {
     "data": {
      "text/plain": [
       "{'1': ['2207 876234', '11-2'], '2': ['10006'], '3': [], 'cat': []}"
      ]
     },
     "execution_count": 36,
     "metadata": {},
     "output_type": "execute_result"
    }
   ],
   "source": [
    "# 4. add\n",
    "def add_new_shelf(new_shelf_num, dirs):\n",
    "    \"\"\"\n",
    "        Ask the number of new shelf and add it\n",
    "        to the directories if it is really new.\n",
    "    \"\"\"\n",
    "    if new_shelf_num in dirs.keys():\n",
    "        print('This shelf is in directories.')\n",
    "    else:\n",
    "        dirs[new_shelf_num] = []\n",
    "        \n",
    "add_new_shelf('cat', directories)\n",
    "add_new_shelf('1',   directories)\n",
    "directories"
   ]
  },
  {
   "cell_type": "code",
   "execution_count": 76,
   "metadata": {},
   "outputs": [
    {
     "name": "stdout",
     "output_type": "stream",
     "text": [
      "There is no a document '2207 876234'.\n"
     ]
    }
   ],
   "source": [
    "# 5. delete\n",
    "def delete_document_by_number(num, docs, dirs):\n",
    "    \"\"\"\n",
    "        If the number of document exists\n",
    "        in scrolls delete the document from\n",
    "        document list and directories.\n",
    "    \"\"\"\n",
    "    for i, j in enumerate(docs):\n",
    "        if j['number'] == num:\n",
    "            del docs[i]\n",
    "            print(repr(num), 'docuemnt has been deleted.')\n",
    "            break\n",
    "    else:\n",
    "        print('There is no a document ', repr(num),'.', sep='')\n",
    "    for d in dirs.keys():\n",
    "        if num in dirs[d]:\n",
    "            dirs[d].remove(num)\n",
    "            \n",
    "delete_document_by_number('2207 876234', documents, directories)\n",
    "# print(documents)\n",
    "# print(directories)"
   ]
  },
  {
   "cell_type": "code",
   "execution_count": 93,
   "metadata": {},
   "outputs": [
    {
     "name": "stdout",
     "output_type": "stream",
     "text": [
      "There are no a document with this number.\n",
      "You can add it with add_new_document().\n",
      "\n",
      " {'1': ['2207 876234', '11-2'], '2': ['10006'], '3': []}\n"
     ]
    }
   ],
   "source": [
    "# 6. move\n",
    "def replace_document(num, new_shelf, dirs):\n",
    "    \"\"\"Ask the targe shelf id and the number of a document to replace.\"\"\"\n",
    "    if new_shelf not in dirs.keys():\n",
    "        print('There are no a shelf with this number.\\nYou can add it with add_new_shelf()')\n",
    "        return None\n",
    "    for shelf in dirs.keys():\n",
    "        if num in dirs[shelf]:\n",
    "            dirs[shelf].remove(num)\n",
    "            dirs[new_shelf].append(num)\n",
    "            break    \n",
    "    else:\n",
    "        print('There are no a document with this number.\\nYou can add it with add_new_document().')\n",
    "replace_document('10006_', '3', directories)\n",
    "\n",
    "print('\\n',directories)"
   ]
  },
  {
   "cell_type": "code",
   "execution_count": 97,
   "metadata": {},
   "outputs": [
    {
     "data": {
      "text/plain": [
       "[{'type': 'passport', 'number': '2207 876234', 'name': 'Василий Гупкин'},\n",
       " {'type': 'invoice', 'number': '11-2', 'name': 'Геннадий Покемонов'},\n",
       " {'type': 'insurance', 'number': '10006', 'name': 'Аристарх Павлов'},\n",
       " {'type': 'bill', 'number': '44B3', 'name': '44B3'},\n",
       " {'type': 'bill', 'number': '44B3', 'name': '44B3'},\n",
       " {'type': 'bill', 'number': '44B3', 'name': '44B3'}]"
      ]
     },
     "execution_count": 97,
     "metadata": {},
     "output_type": "execute_result"
    }
   ],
   "source": [
    "# 7. add\n",
    "def add_new_document(typ, num, nam, shelf, docs, dirs):\n",
    "    \"\"\"\n",
    "        Ask the type, the number, and the owenr's name of a new document,\n",
    "        ask the shelf to place. Add the document collection.\n",
    "    \"\"\"\n",
    "    for doc in docs:\n",
    "        if (doc['type'] == typ\n",
    "            and doc['number'] == num\n",
    "            and doc['name'] == nam):\n",
    "            print('This document is already in collection.\\nYou can see it with show_all_documents().')\n",
    "            return None\n",
    "    if shelf not in dirs.keys():\n",
    "        print('There is no a shelf with this number.\\nYou can add it with add_new_shelf().')\n",
    "    docs.append(dict({'type':typ, 'number':num, 'name': num}))\n",
    "    dirs[shelf].append(num)\n",
    "    \n",
    "add_new_document('bill', '44B3', 'John Doe', '3', documents, directories)\n",
    "documents"
   ]
  }
 ],
 "metadata": {
  "kernelspec": {
   "display_name": "Python 3",
   "language": "python",
   "name": "python3"
  },
  "language_info": {
   "codemirror_mode": {
    "name": "ipython",
    "version": 3
   },
   "file_extension": ".py",
   "mimetype": "text/x-python",
   "name": "python",
   "nbconvert_exporter": "python",
   "pygments_lexer": "ipython3",
   "version": "3.8.3"
  }
 },
 "nbformat": 4,
 "nbformat_minor": 2
}
