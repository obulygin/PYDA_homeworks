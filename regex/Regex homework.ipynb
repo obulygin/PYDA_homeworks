{
 "cells": [
  {
   "cell_type": "markdown",
   "metadata": {},
   "source": [
    "### Задание 1\n",
    "\n",
    "Напишите функцию, которая принимает на вход строку и проверяет является ли она валидным транспортным номером (1 буква, 3 цифры, 2 буквы, 2-3 цифры). Обратите внимание, что не все буквы кириллического алфавита используются в транспортных номерах.\n",
    "\n",
    "Если номер валиден, то функция должна возвращать отдельно номер и регион.\n",
    "\n",
    "Примеры работы программы:\n",
    "\n",
    "    car_id = 'А222ВС96'\n",
    "\n",
    "Результат: Номер А222ВС валиден. Регион: 96\n",
    "\n",
    "    car_id = 'АБ22ВВ193'\n",
    "\n",
    "Результат: Номер не валиден\n"
   ]
  },
  {
   "cell_type": "code",
   "execution_count": 73,
   "metadata": {},
   "outputs": [
    {
     "name": "stdout",
     "output_type": "stream",
     "text": [
      "('Номер А222ВС96 валиден. Регион: ', '96')\n",
      "Номер не валиден\n"
     ]
    }
   ],
   "source": [
    "car_id_1 = 'А222ВС96'\n",
    "car_id_2 = 'АБ22ВВ193'\n",
    "\n",
    "def check_car_number(num):\n",
    "    import re\n",
    "    if re.findall(r'\\A[а-яА-Я]{1}\\d{3}[а-яА-Я]{2}\\d{2,3}\\Z', num):\n",
    "        return 'Номер ' + num + ' валиден. Регион: ', re.findall(r'\\d+\\Z', num)[0]\n",
    "    else:\n",
    "        return 'Номер не валиден'\n",
    "        \n",
    "print(check_car_number(car_id_1))\n",
    "print(check_car_number(car_id_2))"
   ]
  },
  {
   "cell_type": "markdown",
   "metadata": {},
   "source": [
    "### Задание 2\n",
    "Напишите функцию, которая будет удалять все последовательные повторы слов из заданной строки при помощи регулярных выражений.\n",
    "\n",
    "Пример работы программы:\n",
    "\n",
    "some_string = ‘Напишите функцию функцию, которая будет будет будет будет удалять все все все все последовательные повторы слов из из из из заданной строки строки при помощи регулярных выражений’\n",
    "\n",
    "Результат: Напишите функцию, которая будет удалять все последовательные повторы слов из заданной строки при помощи регулярных выражений."
   ]
  },
  {
   "cell_type": "code",
   "execution_count": 133,
   "metadata": {},
   "outputs": [
    {
     "name": "stdout",
     "output_type": "stream",
     "text": [
      "Напишите функцию, которая будет удалять все последовательные повторы  слов из заданной строки при помощи регулярных выражений функцию.\n"
     ]
    }
   ],
   "source": [
    "some_string = \"\"\"Напишите функцию функцию, которая будет будет будет будет удалять все все все все последовательные повторы  слов из из из из заданной строки строки при помощи регулярных выражений функцию.\"\"\"\n",
    "\n",
    "def remove_repetitions(sentence):\n",
    "    import re\n",
    "    p = re.compile(r'(\\s+\\b\\w+\\b)\\1+')\n",
    "    return p.sub(r'\\1', sentence)\n",
    "\n",
    "print(remove_repetitions(some_string))"
   ]
  },
  {
   "cell_type": "markdown",
   "metadata": {},
   "source": [
    "### Задание 3\n",
    "Напишите функцию, которая будет возвращать акроним по переданной в нее строке со словами.\n",
    "\n",
    "Примеры работы программы:\n",
    "\n",
    "some_words = 'Информационные технологии’\n",
    "Результат: ИТ\n",
    "\n",
    "some_words = 'Near Field Communication’\n",
    "Результат: NFC"
   ]
  },
  {
   "cell_type": "code",
   "execution_count": 56,
   "metadata": {},
   "outputs": [
    {
     "name": "stdout",
     "output_type": "stream",
     "text": [
      "ИТ\n",
      "NFC\n"
     ]
    }
   ],
   "source": [
    "some_words_1 = 'Информационные технологии'\n",
    "some_words_2 = 'Near Field Communication'\n",
    "\n",
    "def acronim(phrase):\n",
    "    ac = ''.join(re.findall(r'\\b[a-zA-Zа-яА-Я]{1}', phrase))\n",
    "    return ac.upper()\n",
    "\n",
    "print(acronim(some_words_1))\n",
    "print(acronim(some_words_2))"
   ]
  },
  {
   "cell_type": "markdown",
   "metadata": {},
   "source": [
    "### Задание 4\n",
    "Напишите функцию, которая будет принимать на вход список email-адресов и выводить их распределение по доменным зонам.\n",
    "\n",
    "Пример работы программы:\n",
    "\n",
    "emails = [‘test@gmail.com, xyz@test.in, test@ya.ru, xyz@mail.ru, xyz@ya.ru’, xyz@gmail.com]\n",
    "\n",
    "Результат:\n",
    "\n",
    "gmail.com: 2\n",
    "test.in: 1\n",
    "ya.ru: 2\n",
    "mail.ru: 1"
   ]
  },
  {
   "cell_type": "code",
   "execution_count": 71,
   "metadata": {},
   "outputs": [
    {
     "name": "stdout",
     "output_type": "stream",
     "text": [
      "Counter({'gmail.com': 2, 'ya.ru': 2, 'test.in': 1, 'mail.ru': 1})\n"
     ]
    }
   ],
   "source": [
    "emails = ['test@gmail.com', 'xyz@test.in', 'test@ya.ru', 'xyz@mail.ru', 'xyz@ya.ru', 'xyz@gmail.com']\n",
    "\n",
    "def domen_distr(boxes):\n",
    "    from collections import Counter\n",
    "    print(Counter(map(lambda x: re.split(r'@', x)[1], boxes)))\n",
    "\n",
    "domen_distr(emails)"
   ]
  },
  {
   "cell_type": "markdown",
   "metadata": {},
   "source": [
    "### Задание 5 (необязательное)\n",
    "\n",
    "Напишите функцию, которая будет подсчитывать сколько слов начинается на гласные, а сколько на согласные буквы в тексте (текст может быть написан как с использованием букв кириллицы, так и латиницы).\n",
    "\n",
    "Пример работы программы:\n",
    "\n",
    "some_text = ‘Эталонной реализацией Python является интерпретатор CPython, поддерживающий большинство активно используемых платформ. Он распространяется под свободной лицензией Python Software Foundation License, позволяющей использовать его без ограничений в любых приложениях, включая проприетарные.’\n",
    "\n",
    "Результат:\n",
    "\n",
    "Слов на гласные буквы: 9\n",
    "Слов на согласные буквы: 21 b-df-hj-np-tv-zB-DF-HJ-NP-TV-Zа-джзк-нп-тф"
   ]
  },
  {
   "cell_type": "code",
   "execution_count": 143,
   "metadata": {},
   "outputs": [
    {
     "name": "stdout",
     "output_type": "stream",
     "text": [
      "Слов на гласные буквы:  9\n",
      "Слов на согласные буквы:  21\n"
     ]
    }
   ],
   "source": [
    "some_text = \"\"\"Эталонной реализацией Python является интерпретатор CPython,\n",
    "    поддерживающий большинство активно используемых платформ.\n",
    "    Он распространяется под свободной лицензией Python Software Foundation License,\n",
    "    позволяющей использовать его без ограничений в любых приложениях, включая проприетарные.\"\"\"\n",
    "\n",
    "def count_start_letters(text_):\n",
    "    vowels = len(re.findall(r'(?i)\\b[aeiouyаеёиоуыэюя]', text_))\n",
    "    # consonants = len(re.findall(r'\\b[b-df-hj-np-tv-zB-DF-HJ-NP-TV-Zб-джзк-нп-тф-щБ-ДЗЗК-НП-ТФ-Щ]', some_text))\n",
    "    consonants = len(re.findall(r'(?i)\\b[^aeiouyаеёиоуыэюя\\W]', text_))\n",
    "    print('Слов на гласные буквы: ', vowels)\n",
    "    print('Слов на согласные буквы: ', consonants)\n",
    "\n",
    "count_start_letters(some_text)"
   ]
  },
  {
   "cell_type": "markdown",
   "metadata": {},
   "source": [
    "### Задание 6 (необязательное)\n",
    "\n",
    "Напишите функцию, которая будет проверять номер сотового телефона на валидность, если он валиден, то переводить его в формат:\n",
    "+7-xxx-xxx-xx-xx\n",
    "Постарайтесь предусмотреть как можно больше адекватных форматов изначального ввода номера. Примеры работы программы:\n",
    "\n",
    "phone = '+7 955 555-55-55’\n",
    "Результат: +7-950-555-55-55\n",
    "\n",
    "phone = '8(955)555-55-55’\n",
    "Результат: +7-950-555-55-55\n",
    "\n",
    "phone = '+7 955 555 55 55’\n",
    "Результат: +7-950-555-55-55\n",
    "\n",
    "phone = '7(955) 555-55-55’\n",
    "Результат: +7-950-555-55-55\n",
    "\n",
    "phone = '423-555-55-5555’\n",
    "Результат: Номер не валиден\n",
    "\n",
    "phone = '123-456-789’\n",
    "Результат: Номер не валиден"
   ]
  },
  {
   "cell_type": "code",
   "execution_count": 172,
   "metadata": {},
   "outputs": [
    {
     "name": "stdout",
     "output_type": "stream",
     "text": [
      "Результат: +1-955-555-55-55\n",
      "Результат: +7-955-555-55-55\n",
      "Результат: +7-955-555-55-55\n",
      "Результат: +7-955-555-55-55\n",
      "Результат: +7-955-555-55-55\n",
      "Результат: Номер не валиден\n",
      "Результат: Номер не валиден\n"
     ]
    }
   ],
   "source": [
    "import re\n",
    "phones = [\n",
    "    '(+1 955) 555-55-55','+7 955 555-55-55', '8(955)555-55-55',\n",
    "    '+7 955 555 55 55', '7(955) 555-55-55', '423-555-55-5555',\n",
    "    '123-456-789'\n",
    "    ]\n",
    "\n",
    "def process_phone(num):\n",
    "    check_len = len(re.findall(r'(?i)\\s*\\W{0,2}\\d', num)) == 11\n",
    "    res = 'Результат: '\n",
    "    if check_len:\n",
    "        digits = re.findall(r'\\d', num)\n",
    "        # if Russia\n",
    "        if digits[0] == '8' or digits[0] == '7':\n",
    "            res += '+7-'\n",
    "        # other country\n",
    "        else:\n",
    "            if re.match('^\\s*\\W{0,2}\\s*\\+', num):\n",
    "                res += '+' + digits[0] + '-'\n",
    "            else:\n",
    "                return res + 'Номер не валиден'\n",
    "            \n",
    "        res += (  ''.join(digits[1:4]) + '-'\n",
    "                + ''.join(digits[4:7]) + '-'\n",
    "                + ''.join(digits[7:9]) + '-' +\n",
    "                ''.join(digits[9:11])\n",
    "               )\n",
    "        return res\n",
    "    else:\n",
    "        return res + 'Номер не валиден'\n",
    "for phone in phones:\n",
    "    print(process_phone(phone))"
   ]
  }
 ],
 "metadata": {
  "kernelspec": {
   "display_name": "Python 3",
   "language": "python",
   "name": "python3"
  },
  "language_info": {
   "codemirror_mode": {
    "name": "ipython",
    "version": 3
   },
   "file_extension": ".py",
   "mimetype": "text/x-python",
   "name": "python",
   "nbconvert_exporter": "python",
   "pygments_lexer": "ipython3",
   "version": "3.8.3"
  }
 },
 "nbformat": 4,
 "nbformat_minor": 4
}
